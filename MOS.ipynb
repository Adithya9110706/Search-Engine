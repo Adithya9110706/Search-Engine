{
  "nbformat": 4,
  "nbformat_minor": 0,
  "metadata": {
    "colab": {
      "provenance": []
    },
    "kernelspec": {
      "name": "python3",
      "display_name": "Python 3"
    },
    "language_info": {
      "name": "python"
    }
  },
  "cells": [
    {
      "cell_type": "markdown",
      "source": [
        "Mount Google Drive and Install Requirements"
      ],
      "metadata": {
        "id": "oJ5sSYZk67lR"
      }
    },
    {
      "cell_type": "code",
      "execution_count": 7,
      "metadata": {
        "colab": {
          "base_uri": "https://localhost:8080/"
        },
        "id": "OtWodJCc5QQT",
        "outputId": "b0deabe7-a9b8-4cb8-82d7-c74814d132b8"
      },
      "outputs": [
        {
          "output_type": "stream",
          "name": "stdout",
          "text": [
            "Mounted at /content/drive\n"
          ]
        }
      ],
      "source": [
        "from google.colab import drive\n",
        "drive.mount('/content/drive')\n"
      ]
    },
    {
      "cell_type": "code",
      "source": [
        "!pip install nltk"
      ],
      "metadata": {
        "colab": {
          "base_uri": "https://localhost:8080/"
        },
        "id": "zNwTjGd_5Uao",
        "outputId": "e00e96bb-5401-439e-a7ab-52c31bf855d5"
      },
      "execution_count": 8,
      "outputs": [
        {
          "output_type": "stream",
          "name": "stdout",
          "text": [
            "Requirement already satisfied: nltk in /usr/local/lib/python3.11/dist-packages (3.9.1)\n",
            "Requirement already satisfied: click in /usr/local/lib/python3.11/dist-packages (from nltk) (8.1.8)\n",
            "Requirement already satisfied: joblib in /usr/local/lib/python3.11/dist-packages (from nltk) (1.4.2)\n",
            "Requirement already satisfied: regex>=2021.8.3 in /usr/local/lib/python3.11/dist-packages (from nltk) (2024.11.6)\n",
            "Requirement already satisfied: tqdm in /usr/local/lib/python3.11/dist-packages (from nltk) (4.67.1)\n"
          ]
        }
      ]
    },
    {
      "cell_type": "markdown",
      "source": [
        "Importing packages"
      ],
      "metadata": {
        "id": "p-lwsbG47BCX"
      }
    },
    {
      "cell_type": "code",
      "source": [
        "import nltk\n",
        "import re\n",
        "import math\n",
        "import xml.etree.ElementTree as ET\n",
        "from nltk.corpus import stopwords\n",
        "from nltk.stem import WordNetLemmatizer\n",
        "from nltk.stem import PorterStemmer\n",
        "from collections import defaultdict\n",
        "nltk.download('stopwords')\n",
        "nltk.download('wordnet')\n"
      ],
      "metadata": {
        "colab": {
          "base_uri": "https://localhost:8080/"
        },
        "id": "HCzNstIC5cvQ",
        "outputId": "814b143f-41b7-462c-fc47-6f1e9a75f9e3"
      },
      "execution_count": 9,
      "outputs": [
        {
          "output_type": "stream",
          "name": "stderr",
          "text": [
            "[nltk_data] Downloading package stopwords to /root/nltk_data...\n",
            "[nltk_data]   Unzipping corpora/stopwords.zip.\n",
            "[nltk_data] Downloading package wordnet to /root/nltk_data...\n"
          ]
        },
        {
          "output_type": "execute_result",
          "data": {
            "text/plain": [
              "True"
            ]
          },
          "metadata": {},
          "execution_count": 9
        }
      ]
    },
    {
      "cell_type": "markdown",
      "source": [
        "Assigning path for dataset"
      ],
      "metadata": {
        "id": "Qd1OwmnN7Jtj"
      }
    },
    {
      "cell_type": "code",
      "source": [
        "CRAN_DOCS_PATH = \"/content/drive/MyDrive/MOS/cranfield-trec-dataset-main/cran.all.1400 (1).xml\"\n",
        "CRAN_QUERIES_PATH = \"/content/drive/MyDrive/MOS/cranfield-trec-dataset-main/sorted_cran.qry (2).xml\"\n",
        "CRAN_RELEVANCE_PATH = \"/content/drive/MyDrive/MOS/cranfield-trec-dataset-main/cranqrel.trec.txt\""
      ],
      "metadata": {
        "id": "SfCJ4KTQ5i8w"
      },
      "execution_count": 10,
      "outputs": []
    },
    {
      "cell_type": "markdown",
      "source": [
        "Creating Text processor class using lemmatation"
      ],
      "metadata": {
        "id": "IbiBxg6j7UTS"
      }
    },
    {
      "cell_type": "code",
      "source": [
        "class TextProcessor:\n",
        "    def __init__(self):\n",
        "        self.stop_words = set(stopwords.words('english'))\n",
        "        self.lemmatizer = WordNetLemmatizer()\n",
        "\n",
        "    def process_text(self, text):\n",
        "        text = re.sub(r'[^a-zA-Z0-9\\s]', '', text.lower())\n",
        "        tokens = text.split()\n",
        "        filtered = [word for word in tokens if word not in self.stop_words]\n",
        "        lemmatized = [self.lemmatizer.lemmatize(word) for word in filtered]\n",
        "\n",
        "        return lemmatized"
      ],
      "metadata": {
        "id": "BFH00sHV5mlg"
      },
      "execution_count": 11,
      "outputs": []
    },
    {
      "cell_type": "markdown",
      "source": [
        "Creating Text Processor class using Stemming"
      ],
      "metadata": {
        "id": "VZiO9UbJ84pf"
      }
    },
    {
      "cell_type": "code",
      "source": [
        "class TextProcessor:\n",
        "    def __init__(self):\n",
        "        self.stop_words = set(stopwords.words('english'))\n",
        "        self.stemmer = PorterStemmer()\n",
        "\n",
        "    def process_text(self, text):\n",
        "        text = re.sub(r'[^a-zA-Z0-9\\s]', '', text.lower())\n",
        "        tokens = text.split()\n",
        "        filtered = [word for word in tokens if word not in self.stop_words]\n",
        "        stemmed = [self.stemmer.stem(word) for word in filtered]\n",
        "\n",
        "        return stemmed"
      ],
      "metadata": {
        "id": "OTLTzyoJ5pI4"
      },
      "execution_count": 12,
      "outputs": []
    },
    {
      "cell_type": "markdown",
      "source": [
        "Creating inverted index"
      ],
      "metadata": {
        "id": "BnmCbF6387LU"
      }
    },
    {
      "cell_type": "code",
      "source": [
        "class InvertedIndex:\n",
        "    def __init__(self, processor):\n",
        "        self.index = defaultdict(dict)\n",
        "        self.doc_lengths = {}\n",
        "        self.total_docs = 0\n",
        "        self.avg_doc_length = 0\n",
        "        self.processor = processor\n",
        "\n",
        "    def build_index(self, docs):\n",
        "        self.total_docs = len(docs)\n",
        "        total_length = 0\n",
        "\n",
        "        for doc_id, text in docs.items():\n",
        "            terms = self.processor.process_text(text)\n",
        "            self.doc_lengths[doc_id] = len(terms)\n",
        "            total_length += len(terms)\n",
        "            term_counts = defaultdict(int)\n",
        "            for term in terms:\n",
        "                term_counts[term] += 1\n",
        "\n",
        "            for term, count in term_counts.items():\n",
        "                self.index[term][doc_id] = count\n",
        "\n",
        "        self.avg_doc_length = total_length / self.total_docs"
      ],
      "metadata": {
        "id": "JUW0HOD15upl"
      },
      "execution_count": 13,
      "outputs": []
    },
    {
      "cell_type": "markdown",
      "source": [
        "Creating class for 3 ranking models"
      ],
      "metadata": {
        "id": "aPKr6X4D9DVx"
      }
    },
    {
      "cell_type": "code",
      "source": [
        "class Ranker:\n",
        "    def __init__(self, index):\n",
        "        self.index = index\n",
        "        self.k1 = 1.5\n",
        "        self.b = 0.75\n",
        "        self.mu = 2000\n",
        "\n",
        "    def vsm_score(self, query_terms, doc_id):\n",
        "        score = 0.0\n",
        "        for term in query_terms:\n",
        "            if term in self.index.index:\n",
        "                tf = self.index.index[term].get(doc_id, 0)\n",
        "                df = len(self.index.index[term])\n",
        "                idf = math.log((self.index.total_docs + 1) / (df + 0.5))\n",
        "                score += tf * idf\n",
        "        return score\n",
        "\n",
        "    def bm25_score(self, query_terms, doc_id):\n",
        "        score = 0.0\n",
        "        doc_length = self.index.doc_lengths[doc_id]\n",
        "        for term in query_terms:\n",
        "            if term in self.index.index:\n",
        "                tf = self.index.index[term].get(doc_id, 0)\n",
        "                df = len(self.index.index[term])\n",
        "                idf = math.log((self.index.total_docs - df + 0.5) / (df + 0.5))\n",
        "                numerator = tf * (self.k1 + 1)\n",
        "                denominator = tf + self.k1 * (1 - self.b + self.b * (doc_length / self.index.avg_doc_length))\n",
        "                score += idf * (numerator / denominator)\n",
        "        return score\n",
        "\n",
        "    def lm_score(self, query_terms, doc_id):\n",
        "        score = 0.0\n",
        "        doc_length = self.index.doc_lengths[doc_id]\n",
        "        for term in query_terms:\n",
        "            if term in self.index.index:\n",
        "                tf = self.index.index[term].get(doc_id, 0)\n",
        "                collection_cf = sum(self.index.index[term].values())\n",
        "                p = (tf + self.mu * (collection_cf / self.index.total_docs)) / (doc_length + self.mu)\n",
        "                score += math.log(p) if p > 0 else 0\n",
        "        return score\n"
      ],
      "metadata": {
        "id": "OU8Hmtyt6LDt"
      },
      "execution_count": 14,
      "outputs": []
    },
    {
      "cell_type": "markdown",
      "source": [
        "Function for loading Data into program"
      ],
      "metadata": {
        "id": "7iEo22Q-9NHl"
      }
    },
    {
      "cell_type": "code",
      "source": [
        "def load_xml(file_path):\n",
        "    tree = ET.parse(file_path)\n",
        "    root = tree.getroot()\n",
        "    data = {}\n",
        "    for elem in root.findall('.//doc'):\n",
        "        doc_id = elem.find('docno').text.strip()\n",
        "        text = \"\".join(elem.find('text').itertext()).strip()\n",
        "        data[doc_id] = text\n",
        "    return data\n",
        "\n",
        "def load_queries_xml(file_path):\n",
        "    tree = ET.parse(file_path)\n",
        "    root = tree.getroot()\n",
        "    queries = {}\n",
        "    for top in root.findall('.//top'):\n",
        "        query_num = top.find('num').text.strip()\n",
        "        query_title = top.find('title').text.strip()\n",
        "        queries[query_num] = query_title\n",
        "    return queries\n",
        "\n",
        "def load_relevance(relevance_path):\n",
        "    qrel = defaultdict(dict)\n",
        "    with open(relevance_path, 'r') as f:\n",
        "        for line in f:\n",
        "            parts = line.strip().split()\n",
        "            q_id, _, doc_id, rel = parts\n",
        "            qrel[q_id][doc_id] = int(rel)\n",
        "    return qrel\n"
      ],
      "metadata": {
        "id": "-MERu_z76YcX"
      },
      "execution_count": 15,
      "outputs": []
    },
    {
      "cell_type": "markdown",
      "source": [
        "Function for genetating Trec Output"
      ],
      "metadata": {
        "id": "lvv4KUg49TzZ"
      }
    },
    {
      "cell_type": "code",
      "source": [
        "def generate_trec_output(queries, index, ranker, output_prefix):\n",
        "    with open(f\"{output_prefix}_vsm.trec\", 'w') as vsm_file, \\\n",
        "         open(f\"{output_prefix}_bm25.trec\", 'w') as bm25_file, \\\n",
        "         open(f\"{output_prefix}_lm.trec\", 'w') as lm_file:\n",
        "\n",
        "        for q_id, query_text in queries.items():\n",
        "            query_terms = processor.process_text(query_text)\n",
        "            vsm_scores = []\n",
        "            bm25_scores = []\n",
        "            lm_scores = []\n",
        "            for doc_id in index.doc_lengths:\n",
        "                vsm = ranker.vsm_score(query_terms, doc_id)\n",
        "                bm25 = ranker.bm25_score(query_terms, doc_id)\n",
        "                lm = ranker.lm_score(query_terms, doc_id)\n",
        "                vsm_scores.append(f\"{q_id} 0 {doc_id} 1 {vsm:.4f} VSM\")\n",
        "                bm25_scores.append(f\"{q_id} 0 {doc_id} 1 {bm25:.4f} BM25\")\n",
        "                lm_scores.append(f\"{q_id} 0 {doc_id} 1 {lm:.4f} LM\")\n",
        "            vsm_file.write(\"\\n\".join(vsm_scores[:2500]) + \"\\n\")\n",
        "            bm25_file.write(\"\\n\".join(bm25_scores[:2500]) + \"\\n\")\n",
        "            lm_file.write(\"\\n\".join(lm_scores[:1500]) + \"\\n\")\n",
        "\n"
      ],
      "metadata": {
        "id": "zyOiq2ym6dFU"
      },
      "execution_count": 16,
      "outputs": []
    },
    {
      "cell_type": "markdown",
      "source": [
        "Main Class"
      ],
      "metadata": {
        "id": "1K3j7DZ59X-v"
      }
    },
    {
      "cell_type": "code",
      "source": [
        "if __name__ == \"__main__\":\n",
        "    processor = TextProcessor()\n",
        "\n",
        "    print(\"Loading documents...\")\n",
        "    documents = load_xml(CRAN_DOCS_PATH)\n",
        "    queries = load_queries_xml(CRAN_QUERIES_PATH)\n",
        "    relevance = load_relevance(CRAN_RELEVANCE_PATH)\n",
        "\n",
        "    print(\"Building index...\")\n",
        "    index = InvertedIndex(processor)\n",
        "    index.build_index(documents)\n",
        "\n",
        "    ranker = Ranker(index)\n",
        "\n",
        "\n",
        "    print(\"Generating results...\")\n",
        "    generate_trec_output(queries, index, ranker, \"results\")  # Use \"results\" as the prefix\n",
        "\n",
        "    print(\"Done! Results saved to:\")\n",
        "    print(\"- results_vsm.trec (Vector Space Model)\")\n",
        "    print(\"- results_bm25.trec (BM25)\")\n",
        "    print(\"- results_lm.trec (Language Model)\")\n",
        "    print(\"Use trec_eval with commands:\")\n",
        "    print(f\"!./trec_eval {CRAN_RELEVANCE_PATH} results_vsm.trec -m all_trec\")\n",
        "    print(f\"!./trec_eval {CRAN_RELEVANCE_PATH} results_bm25.trec -m all_trec\")\n",
        "    print(f\"!./trec_eval {CRAN_RELEVANCE_PATH} results_lm.trec -m all_trec\")"
      ],
      "metadata": {
        "colab": {
          "base_uri": "https://localhost:8080/"
        },
        "id": "O_zjJ0EO6ify",
        "outputId": "9917e703-27aa-47f2-d325-52531b6249a4"
      },
      "execution_count": 17,
      "outputs": [
        {
          "output_type": "stream",
          "name": "stdout",
          "text": [
            "Loading documents...\n",
            "Building index...\n",
            "Generating results...\n",
            "Done! Results saved to:\n",
            "- results_vsm.trec (Vector Space Model)\n",
            "- results_bm25.trec (BM25)\n",
            "- results_lm.trec (Language Model)\n",
            "Use trec_eval with commands:\n",
            "!./trec_eval /content/drive/MyDrive/MOS/cranfield-trec-dataset-main/cranqrel.trec.txt results_vsm.trec -m all_trec\n",
            "!./trec_eval /content/drive/MyDrive/MOS/cranfield-trec-dataset-main/cranqrel.trec.txt results_bm25.trec -m all_trec\n",
            "!./trec_eval /content/drive/MyDrive/MOS/cranfield-trec-dataset-main/cranqrel.trec.txt results_lm.trec -m all_trec\n"
          ]
        }
      ]
    },
    {
      "cell_type": "markdown",
      "source": [
        "Evaluating Results"
      ],
      "metadata": {
        "id": "a3EoKLNf9bn6"
      }
    },
    {
      "cell_type": "code",
      "source": [
        "!wget -q https://github.com/usnistgov/trec_eval/archive/refs/tags/v9.0.7.tar.gz\n",
        "!tar -xzf v9.0.7.tar.gz\n",
        "!cd trec_eval-9.0.7 && make\n"
      ],
      "metadata": {
        "colab": {
          "base_uri": "https://localhost:8080/"
        },
        "id": "c7ztKy8q6oNJ",
        "outputId": "646651e8-de4b-4711-fe0a-850986a07e0d"
      },
      "execution_count": 18,
      "outputs": [
        {
          "output_type": "stream",
          "name": "stdout",
          "text": [
            "gcc -g -I.  -Wall -DVERSIONID=\\\"9.0.7\\\"  -o trec_eval trec_eval.c formats.c meas_init.c meas_acc.c meas_avg.c meas_print_single.c meas_print_final.c get_qrels.c get_trec_results.c get_prefs.c get_qrels_prefs.c get_qrels_jg.c form_res_rels.c form_res_rels_jg.c form_prefs_counts.c utility_pool.c get_zscores.c convert_zscores.c measures.c  m_map.c m_P.c m_num_q.c m_num_ret.c m_num_rel.c m_num_rel_ret.c m_gm_map.c m_Rprec.c m_recip_rank.c m_bpref.c m_iprec_at_recall.c m_recall.c m_Rprec_mult.c m_utility.c m_11pt_avg.c m_ndcg.c m_ndcg_cut.c m_Rndcg.c m_ndcg_rel.c m_binG.c m_G.c m_rel_P.c m_success.c m_infap.c m_map_cut.c m_gm_bpref.c m_runid.c m_relstring.c m_set_P.c m_set_recall.c m_set_rel_P.c m_set_map.c m_set_F.c m_num_nonrel_judged_ret.c m_prefs_num_prefs_poss.c m_prefs_num_prefs_ful.c m_prefs_num_prefs_ful_ret.c m_prefs_simp.c m_prefs_pair.c m_prefs_avgjg.c m_prefs_avgjg_Rnonrel.c m_prefs_simp_ret.c m_prefs_pair_ret.c m_prefs_avgjg_ret.c m_prefs_avgjg_Rnonrel_ret.c m_prefs_simp_imp.c m_prefs_pair_imp.c m_prefs_avgjg_imp.c m_map_avgjg.c m_Rprec_mult_avgjg.c m_P_avgjg.c m_yaap.c -lm\n"
          ]
        }
      ]
    },
    {
      "cell_type": "code",
      "source": [
        "!trec_eval-9.0.7/trec_eval /content/drive/MyDrive/MOS/cranfield-trec-dataset-main/cranqrel.trec.txt /content/results_bm25.trec -m all_trec\n"
      ],
      "metadata": {
        "colab": {
          "base_uri": "https://localhost:8080/"
        },
        "id": "AXyZ_ybV6rpF",
        "outputId": "36615e28-b20f-43df-d649-4d269eb1b1cf"
      },
      "execution_count": 19,
      "outputs": [
        {
          "output_type": "stream",
          "name": "stdout",
          "text": [
            "runid                 \tall\tBM25\n",
            "num_q                 \tall\t225\n",
            "num_ret               \tall\t315000\n",
            "num_rel               \tall\t1612\n",
            "num_rel_ret           \tall\t1612\n",
            "map                   \tall\t0.2957\n",
            "gm_map                \tall\t0.1809\n",
            "Rprec                 \tall\t0.2905\n",
            "bpref                 \tall\t0.2851\n",
            "recip_rank            \tall\t0.5365\n",
            "iprec_at_recall_0.00  \tall\t0.5828\n",
            "iprec_at_recall_0.10  \tall\t0.5470\n",
            "iprec_at_recall_0.20  \tall\t0.4911\n",
            "iprec_at_recall_0.30  \tall\t0.4106\n",
            "iprec_at_recall_0.40  \tall\t0.3629\n",
            "iprec_at_recall_0.50  \tall\t0.3208\n",
            "iprec_at_recall_0.60  \tall\t0.2457\n",
            "iprec_at_recall_0.70  \tall\t0.2048\n",
            "iprec_at_recall_0.80  \tall\t0.1474\n",
            "iprec_at_recall_0.90  \tall\t0.1106\n",
            "iprec_at_recall_1.00  \tall\t0.1047\n",
            "P_5                   \tall\t0.3138\n",
            "P_10                  \tall\t0.2311\n",
            "P_15                  \tall\t0.1846\n",
            "P_20                  \tall\t0.1520\n",
            "P_30                  \tall\t0.1179\n",
            "P_100                 \tall\t0.0488\n",
            "P_200                 \tall\t0.0278\n",
            "P_500                 \tall\t0.0127\n",
            "P_1000                \tall\t0.0069\n",
            "recall_5              \tall\t0.2870\n",
            "recall_10             \tall\t0.3865\n",
            "recall_15             \tall\t0.4504\n",
            "recall_20             \tall\t0.4895\n",
            "recall_30             \tall\t0.5540\n",
            "recall_100            \tall\t0.7349\n",
            "recall_200            \tall\t0.8098\n",
            "recall_500            \tall\t0.9046\n",
            "recall_1000           \tall\t0.9710\n",
            "infAP                 \tall\t0.2957\n",
            "gm_bpref              \tall\t0.0029\n",
            "Rprec_mult_0.20       \tall\t0.3507\n",
            "Rprec_mult_0.40       \tall\t0.3403\n",
            "Rprec_mult_0.60       \tall\t0.3290\n",
            "Rprec_mult_0.80       \tall\t0.3035\n",
            "Rprec_mult_1.00       \tall\t0.2905\n",
            "Rprec_mult_1.20       \tall\t0.2714\n",
            "Rprec_mult_1.40       \tall\t0.2542\n",
            "Rprec_mult_1.60       \tall\t0.2341\n",
            "Rprec_mult_1.80       \tall\t0.2179\n",
            "Rprec_mult_2.00       \tall\t0.2099\n",
            "utility               \tall\t-1385.6711\n",
            "11pt_avg              \tall\t0.3208\n",
            "binG                  \tall\t0.3504\n",
            "G                     \tall\t0.3504\n",
            "ndcg                  \tall\t0.5538\n",
            "ndcg_rel              \tall\t0.4825\n",
            "Rndcg                 \tall\t0.4298\n",
            "ndcg_cut_5            \tall\t0.3690\n",
            "ndcg_cut_10           \tall\t0.3755\n",
            "ndcg_cut_15           \tall\t0.3932\n",
            "ndcg_cut_20           \tall\t0.4075\n",
            "ndcg_cut_30           \tall\t0.4328\n",
            "ndcg_cut_100          \tall\t0.4914\n",
            "ndcg_cut_200          \tall\t0.5128\n",
            "ndcg_cut_500          \tall\t0.5348\n",
            "ndcg_cut_1000         \tall\t0.5485\n",
            "map_cut_5             \tall\t0.1943\n",
            "map_cut_10            \tall\t0.2363\n",
            "map_cut_15            \tall\t0.2544\n",
            "map_cut_20            \tall\t0.2630\n",
            "map_cut_30            \tall\t0.2735\n",
            "map_cut_100           \tall\t0.2892\n",
            "map_cut_200           \tall\t0.2926\n",
            "map_cut_500           \tall\t0.2947\n",
            "map_cut_1000          \tall\t0.2955\n",
            "relative_P_5          \tall\t0.3839\n",
            "relative_P_10         \tall\t0.4096\n",
            "relative_P_15         \tall\t0.4550\n",
            "relative_P_20         \tall\t0.4914\n",
            "relative_P_30         \tall\t0.5543\n",
            "relative_P_100        \tall\t0.7349\n",
            "relative_P_200        \tall\t0.8098\n",
            "relative_P_500        \tall\t0.9046\n",
            "relative_P_1000       \tall\t0.9710\n",
            "success_1             \tall\t0.3467\n",
            "success_5             \tall\t0.7600\n",
            "success_10            \tall\t0.8267\n",
            "set_P                 \tall\t0.0051\n",
            "set_relative_P        \tall\t1.0000\n",
            "set_recall            \tall\t1.0000\n",
            "set_map               \tall\t0.0051\n",
            "set_F                 \tall\t0.0102\n",
            "num_nonrel_judged_ret \tall\t225\n"
          ]
        }
      ]
    },
    {
      "cell_type": "code",
      "source": [
        "!trec_eval-9.0.7/trec_eval /content/drive/MyDrive/MOS/cranfield-trec-dataset-main/cranqrel.trec.txt /content/results_vsm.trec -m all_trec\n"
      ],
      "metadata": {
        "colab": {
          "base_uri": "https://localhost:8080/"
        },
        "id": "DNI1fRyx6vyT",
        "outputId": "f89aeac6-2e15-4c3f-f416-243dc48a8a4f"
      },
      "execution_count": 20,
      "outputs": [
        {
          "output_type": "stream",
          "name": "stdout",
          "text": [
            "runid                 \tall\tVSM\n",
            "num_q                 \tall\t225\n",
            "num_ret               \tall\t315000\n",
            "num_rel               \tall\t1612\n",
            "num_rel_ret           \tall\t1612\n",
            "map                   \tall\t0.2152\n",
            "gm_map                \tall\t0.1234\n",
            "Rprec                 \tall\t0.1973\n",
            "bpref                 \tall\t0.3753\n",
            "recip_rank            \tall\t0.4550\n",
            "iprec_at_recall_0.00  \tall\t0.4774\n",
            "iprec_at_recall_0.10  \tall\t0.4449\n",
            "iprec_at_recall_0.20  \tall\t0.3579\n",
            "iprec_at_recall_0.30  \tall\t0.2937\n",
            "iprec_at_recall_0.40  \tall\t0.2479\n",
            "iprec_at_recall_0.50  \tall\t0.2198\n",
            "iprec_at_recall_0.60  \tall\t0.1556\n",
            "iprec_at_recall_0.70  \tall\t0.1373\n",
            "iprec_at_recall_0.80  \tall\t0.0949\n",
            "iprec_at_recall_0.90  \tall\t0.0698\n",
            "iprec_at_recall_1.00  \tall\t0.0656\n",
            "P_5                   \tall\t0.2142\n",
            "P_10                  \tall\t0.1667\n",
            "P_15                  \tall\t0.1384\n",
            "P_20                  \tall\t0.1218\n",
            "P_30                  \tall\t0.0994\n",
            "P_100                 \tall\t0.0460\n",
            "P_200                 \tall\t0.0270\n",
            "P_500                 \tall\t0.0127\n",
            "P_1000                \tall\t0.0069\n",
            "recall_5              \tall\t0.1953\n",
            "recall_10             \tall\t0.2821\n",
            "recall_15             \tall\t0.3399\n",
            "recall_20             \tall\t0.3939\n",
            "recall_30             \tall\t0.4758\n",
            "recall_100            \tall\t0.6917\n",
            "recall_200            \tall\t0.8016\n",
            "recall_500            \tall\t0.9046\n",
            "recall_1000           \tall\t0.9727\n",
            "infAP                 \tall\t0.2152\n",
            "gm_bpref              \tall\t0.0164\n",
            "Rprec_mult_0.20       \tall\t0.2710\n",
            "Rprec_mult_0.40       \tall\t0.2353\n",
            "Rprec_mult_0.60       \tall\t0.2277\n",
            "Rprec_mult_0.80       \tall\t0.2013\n",
            "Rprec_mult_1.00       \tall\t0.1973\n",
            "Rprec_mult_1.20       \tall\t0.1802\n",
            "Rprec_mult_1.40       \tall\t0.1735\n",
            "Rprec_mult_1.60       \tall\t0.1644\n",
            "Rprec_mult_1.80       \tall\t0.1556\n",
            "Rprec_mult_2.00       \tall\t0.1506\n",
            "utility               \tall\t-1385.6711\n",
            "11pt_avg              \tall\t0.2332\n",
            "binG                  \tall\t0.2939\n",
            "G                     \tall\t0.2937\n",
            "ndcg                  \tall\t0.4864\n",
            "ndcg_rel              \tall\t0.4123\n",
            "Rndcg                 \tall\t0.3523\n",
            "ndcg_cut_5            \tall\t0.2640\n",
            "ndcg_cut_10           \tall\t0.2746\n",
            "ndcg_cut_15           \tall\t0.2930\n",
            "ndcg_cut_20           \tall\t0.3140\n",
            "ndcg_cut_30           \tall\t0.3440\n",
            "ndcg_cut_100          \tall\t0.4143\n",
            "ndcg_cut_200          \tall\t0.4424\n",
            "ndcg_cut_500          \tall\t0.4674\n",
            "ndcg_cut_1000         \tall\t0.4814\n",
            "map_cut_5             \tall\t0.1279\n",
            "map_cut_10            \tall\t0.1565\n",
            "map_cut_15            \tall\t0.1696\n",
            "map_cut_20            \tall\t0.1796\n",
            "map_cut_30            \tall\t0.1905\n",
            "map_cut_100           \tall\t0.2081\n",
            "map_cut_200           \tall\t0.2120\n",
            "map_cut_500           \tall\t0.2143\n",
            "map_cut_1000          \tall\t0.2150\n",
            "relative_P_5          \tall\t0.2656\n",
            "relative_P_10         \tall\t0.2990\n",
            "relative_P_15         \tall\t0.3443\n",
            "relative_P_20         \tall\t0.3955\n",
            "relative_P_30         \tall\t0.4761\n",
            "relative_P_100        \tall\t0.6917\n",
            "relative_P_200        \tall\t0.8016\n",
            "relative_P_500        \tall\t0.9046\n",
            "relative_P_1000       \tall\t0.9727\n",
            "success_1             \tall\t0.3111\n",
            "success_5             \tall\t0.6356\n",
            "success_10            \tall\t0.7378\n",
            "set_P                 \tall\t0.0051\n",
            "set_relative_P        \tall\t1.0000\n",
            "set_recall            \tall\t1.0000\n",
            "set_map               \tall\t0.0051\n",
            "set_F                 \tall\t0.0102\n",
            "num_nonrel_judged_ret \tall\t225\n"
          ]
        }
      ]
    },
    {
      "cell_type": "code",
      "source": [
        "!trec_eval-9.0.7/trec_eval /content/drive/MyDrive/MOS/cranfield-trec-dataset-main/cranqrel.trec.txt /content/results_lm.trec -m all_trec\n"
      ],
      "metadata": {
        "colab": {
          "base_uri": "https://localhost:8080/"
        },
        "id": "OUWIu5so6ySK",
        "outputId": "b13f41a5-c5dc-4457-effa-6a2b5577d937"
      },
      "execution_count": 21,
      "outputs": [
        {
          "output_type": "stream",
          "name": "stdout",
          "text": [
            "runid                 \tall\tLM\n",
            "num_q                 \tall\t225\n",
            "num_ret               \tall\t315000\n",
            "num_rel               \tall\t1612\n",
            "num_rel_ret           \tall\t1612\n",
            "map                   \tall\t0.0368\n",
            "gm_map                \tall\t0.0116\n",
            "Rprec                 \tall\t0.0376\n",
            "bpref                 \tall\t0.3221\n",
            "recip_rank            \tall\t0.1033\n",
            "iprec_at_recall_0.00  \tall\t0.1092\n",
            "iprec_at_recall_0.10  \tall\t0.1000\n",
            "iprec_at_recall_0.20  \tall\t0.0727\n",
            "iprec_at_recall_0.30  \tall\t0.0502\n",
            "iprec_at_recall_0.40  \tall\t0.0360\n",
            "iprec_at_recall_0.50  \tall\t0.0322\n",
            "iprec_at_recall_0.60  \tall\t0.0172\n",
            "iprec_at_recall_0.70  \tall\t0.0160\n",
            "iprec_at_recall_0.80  \tall\t0.0107\n",
            "iprec_at_recall_0.90  \tall\t0.0101\n",
            "iprec_at_recall_1.00  \tall\t0.0100\n",
            "P_5                   \tall\t0.0320\n",
            "P_10                  \tall\t0.0276\n",
            "P_15                  \tall\t0.0240\n",
            "P_20                  \tall\t0.0184\n",
            "P_30                  \tall\t0.0141\n",
            "P_100                 \tall\t0.0085\n",
            "P_200                 \tall\t0.0072\n",
            "P_500                 \tall\t0.0057\n",
            "P_1000                \tall\t0.0053\n",
            "recall_5              \tall\t0.0365\n",
            "recall_10             \tall\t0.0548\n",
            "recall_15             \tall\t0.0679\n",
            "recall_20             \tall\t0.0686\n",
            "recall_30             \tall\t0.0776\n",
            "recall_100            \tall\t0.1508\n",
            "recall_200            \tall\t0.2364\n",
            "recall_500            \tall\t0.4292\n",
            "recall_1000           \tall\t0.7712\n",
            "infAP                 \tall\t0.0368\n",
            "gm_bpref              \tall\t0.0134\n",
            "Rprec_mult_0.20       \tall\t0.0448\n",
            "Rprec_mult_0.40       \tall\t0.0443\n",
            "Rprec_mult_0.60       \tall\t0.0419\n",
            "Rprec_mult_0.80       \tall\t0.0399\n",
            "Rprec_mult_1.00       \tall\t0.0376\n",
            "Rprec_mult_1.20       \tall\t0.0362\n",
            "Rprec_mult_1.40       \tall\t0.0346\n",
            "Rprec_mult_1.60       \tall\t0.0306\n",
            "Rprec_mult_1.80       \tall\t0.0293\n",
            "Rprec_mult_2.00       \tall\t0.0294\n",
            "utility               \tall\t-1385.6711\n",
            "11pt_avg              \tall\t0.0422\n",
            "binG                  \tall\t0.1430\n",
            "G                     \tall\t0.1430\n",
            "ndcg                  \tall\t0.2535\n",
            "ndcg_rel              \tall\t0.1811\n",
            "Rndcg                 \tall\t0.1465\n",
            "ndcg_cut_5            \tall\t0.0429\n",
            "ndcg_cut_10           \tall\t0.0501\n",
            "ndcg_cut_15           \tall\t0.0555\n",
            "ndcg_cut_20           \tall\t0.0558\n",
            "ndcg_cut_30           \tall\t0.0592\n",
            "ndcg_cut_100          \tall\t0.0802\n",
            "ndcg_cut_200          \tall\t0.1016\n",
            "ndcg_cut_500          \tall\t0.1445\n",
            "ndcg_cut_1000         \tall\t0.2103\n",
            "map_cut_5             \tall\t0.0229\n",
            "map_cut_10            \tall\t0.0263\n",
            "map_cut_15            \tall\t0.0278\n",
            "map_cut_20            \tall\t0.0280\n",
            "map_cut_30            \tall\t0.0286\n",
            "map_cut_100           \tall\t0.0304\n",
            "map_cut_200           \tall\t0.0317\n",
            "map_cut_500           \tall\t0.0334\n",
            "map_cut_1000          \tall\t0.0354\n",
            "relative_P_5          \tall\t0.0422\n",
            "relative_P_10         \tall\t0.0562\n",
            "relative_P_15         \tall\t0.0682\n",
            "relative_P_20         \tall\t0.0688\n",
            "relative_P_30         \tall\t0.0776\n",
            "relative_P_100        \tall\t0.1508\n",
            "relative_P_200        \tall\t0.2364\n",
            "relative_P_500        \tall\t0.4292\n",
            "relative_P_1000       \tall\t0.7712\n",
            "success_1             \tall\t0.0489\n",
            "success_5             \tall\t0.1422\n",
            "success_10            \tall\t0.2311\n",
            "set_P                 \tall\t0.0051\n",
            "set_relative_P        \tall\t1.0000\n",
            "set_recall            \tall\t1.0000\n",
            "set_map               \tall\t0.0051\n",
            "set_F                 \tall\t0.0102\n",
            "num_nonrel_judged_ret \tall\t225\n"
          ]
        }
      ]
    },
    {
      "cell_type": "code",
      "source": [
        "from google.colab import files\n",
        "files.download('mos_final.ipynb')\n"
      ],
      "metadata": {
        "colab": {
          "base_uri": "https://localhost:8080/",
          "height": 292
        },
        "id": "K4uB00qV7iuC",
        "outputId": "fd78c248-dc58-4230-b977-b29dbe72704c"
      },
      "execution_count": 22,
      "outputs": [
        {
          "output_type": "error",
          "ename": "FileNotFoundError",
          "evalue": "Cannot find file: mos_final.ipynb",
          "traceback": [
            "\u001b[0;31m---------------------------------------------------------------------------\u001b[0m",
            "\u001b[0;31mFileNotFoundError\u001b[0m                         Traceback (most recent call last)",
            "\u001b[0;32m<ipython-input-22-651d3c65b1b3>\u001b[0m in \u001b[0;36m<cell line: 0>\u001b[0;34m()\u001b[0m\n\u001b[1;32m      1\u001b[0m \u001b[0;32mfrom\u001b[0m \u001b[0mgoogle\u001b[0m\u001b[0;34m.\u001b[0m\u001b[0mcolab\u001b[0m \u001b[0;32mimport\u001b[0m \u001b[0mfiles\u001b[0m\u001b[0;34m\u001b[0m\u001b[0;34m\u001b[0m\u001b[0m\n\u001b[0;32m----> 2\u001b[0;31m \u001b[0mfiles\u001b[0m\u001b[0;34m.\u001b[0m\u001b[0mdownload\u001b[0m\u001b[0;34m(\u001b[0m\u001b[0;34m'mos_final.ipynb'\u001b[0m\u001b[0;34m)\u001b[0m\u001b[0;34m\u001b[0m\u001b[0;34m\u001b[0m\u001b[0m\n\u001b[0m",
            "\u001b[0;32m/usr/local/lib/python3.11/dist-packages/google/colab/files.py\u001b[0m in \u001b[0;36mdownload\u001b[0;34m(filename)\u001b[0m\n\u001b[1;32m    231\u001b[0m   \u001b[0;32mif\u001b[0m \u001b[0;32mnot\u001b[0m \u001b[0m_os\u001b[0m\u001b[0;34m.\u001b[0m\u001b[0mpath\u001b[0m\u001b[0;34m.\u001b[0m\u001b[0mexists\u001b[0m\u001b[0;34m(\u001b[0m\u001b[0mfilename\u001b[0m\u001b[0;34m)\u001b[0m\u001b[0;34m:\u001b[0m\u001b[0;34m\u001b[0m\u001b[0;34m\u001b[0m\u001b[0m\n\u001b[1;32m    232\u001b[0m     \u001b[0mmsg\u001b[0m \u001b[0;34m=\u001b[0m \u001b[0;34m'Cannot find file: {}'\u001b[0m\u001b[0;34m.\u001b[0m\u001b[0mformat\u001b[0m\u001b[0;34m(\u001b[0m\u001b[0mfilename\u001b[0m\u001b[0;34m)\u001b[0m\u001b[0;34m\u001b[0m\u001b[0;34m\u001b[0m\u001b[0m\n\u001b[0;32m--> 233\u001b[0;31m     \u001b[0;32mraise\u001b[0m \u001b[0mFileNotFoundError\u001b[0m\u001b[0;34m(\u001b[0m\u001b[0mmsg\u001b[0m\u001b[0;34m)\u001b[0m  \u001b[0;31m# pylint: disable=undefined-variable\u001b[0m\u001b[0;34m\u001b[0m\u001b[0;34m\u001b[0m\u001b[0m\n\u001b[0m\u001b[1;32m    234\u001b[0m \u001b[0;34m\u001b[0m\u001b[0m\n\u001b[1;32m    235\u001b[0m   \u001b[0mcomm_manager\u001b[0m \u001b[0;34m=\u001b[0m \u001b[0m_IPython\u001b[0m\u001b[0;34m.\u001b[0m\u001b[0mget_ipython\u001b[0m\u001b[0;34m(\u001b[0m\u001b[0;34m)\u001b[0m\u001b[0;34m.\u001b[0m\u001b[0mkernel\u001b[0m\u001b[0;34m.\u001b[0m\u001b[0mcomm_manager\u001b[0m\u001b[0;34m\u001b[0m\u001b[0;34m\u001b[0m\u001b[0m\n",
            "\u001b[0;31mFileNotFoundError\u001b[0m: Cannot find file: mos_final.ipynb"
          ]
        }
      ]
    }
  ]
}